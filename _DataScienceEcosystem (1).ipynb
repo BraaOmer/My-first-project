{
 "cells": [
  {
   "cell_type": "markdown",
   "id": "03b6f9a4-8116-4221-aee8-0767b8c60538",
   "metadata": {},
   "source": [
    "# Data Science Tools and Ecosystem"
   ]
  },
  {
   "cell_type": "markdown",
   "id": "6c1c59ed-bd46-4e17-9d1d-86fac9052a1a",
   "metadata": {},
   "source": [
    "## In this notebook, Data Science Tools and Ecosystem are summarized."
   ]
  },
  {
   "cell_type": "markdown",
   "id": "c82e75ec-1b5b-45aa-93a3-6c2cadf60ca9",
   "metadata": {},
   "source": [
    "Some of the popular languages that Data Scientists use are:\n",
    "\n",
    "1. python\n",
    "2. java \n",
    "3. R"
   ]
  },
  {
   "cell_type": "markdown",
   "id": "3a9c31df-47b6-4b68-8a5e-6779d28a86cf",
   "metadata": {},
   "source": [
    "Some of the commonly used libraries used by Data Scientists include:\n",
    "\n",
    "1. NumPy\n",
    "2. Pandas\n",
    "3. Scikit-learn\n",
    "4. Matplotlib\n",
    "5. TensorFlow\n",
    "6. Keras\n",
    "7. PyTorch\n"
   ]
  },
  {
   "cell_type": "markdown",
   "id": "afb68373-0653-481d-ac32-39a767b3c368",
   "metadata": {},
   "source": [
    "# Data Science Tools\n",
    "\n",
    "| Data Science Tools   |\n",
    "|----------------------|\n",
    "| Jupyter Notebook     |\n",
    "| RStudio              |\n",
    "| VS Code              |\n",
    "\n"
   ]
  },
  {
   "cell_type": "markdown",
   "id": "1ba089c4-d59a-4df1-a5a8-5b0380fd8eb3",
   "metadata": {},
   "source": [
    "### Below are a few examples of evaluating arithmetic expressions in Python"
   ]
  },
  {
   "cell_type": "code",
   "execution_count": 1,
   "id": "7660ddaa-fb7a-45af-9136-62eb718d93ef",
   "metadata": {},
   "outputs": [
    {
     "data": {
      "text/plain": [
       "17"
      ]
     },
     "execution_count": 1,
     "metadata": {},
     "output_type": "execute_result"
    }
   ],
   "source": [
    "result = (3 * 4) + 5\n",
    "result\n"
   ]
  },
  {
   "cell_type": "code",
   "execution_count": 2,
   "id": "12dcdbb5-d838-4dd1-9ead-147c7c379e9a",
   "metadata": {},
   "outputs": [
    {
     "data": {
      "text/plain": [
       "3.3333333333333335"
      ]
     },
     "execution_count": 2,
     "metadata": {},
     "output_type": "execute_result"
    }
   ],
   "source": [
    "# This will convert 200 minutes to hours by dividing by 60\n",
    "minutes = 200\n",
    "hours = minutes / 60\n",
    "hours\n"
   ]
  },
  {
   "cell_type": "markdown",
   "id": "ccf2a316-d554-4bfc-b849-0a0deb44bdcc",
   "metadata": {},
   "source": [
    "**Objectives:**\n",
    "  \n",
    "* List popular languages for Data Science\n",
    "* convert minutes to hours by dividing by 60\n",
    "* Data science tools"
   ]
  },
  {
   "cell_type": "markdown",
   "id": "fbaaeceb-c06e-41c4-93dd-10c166810649",
   "metadata": {},
   "source": [
    "## Author \n",
    "Braa Omer"
   ]
  },
  {
   "cell_type": "code",
   "execution_count": null,
   "id": "dd3debaa-2598-4a06-8ed9-c63b147ccdbc",
   "metadata": {},
   "outputs": [],
   "source": []
  }
 ],
 "metadata": {
  "kernelspec": {
   "display_name": "Python 3 (ipykernel)",
   "language": "python",
   "name": "python3"
  },
  "language_info": {
   "codemirror_mode": {
    "name": "ipython",
    "version": 3
   },
   "file_extension": ".py",
   "mimetype": "text/x-python",
   "name": "python",
   "nbconvert_exporter": "python",
   "pygments_lexer": "ipython3",
   "version": "3.10.9"
  }
 },
 "nbformat": 4,
 "nbformat_minor": 5
}
